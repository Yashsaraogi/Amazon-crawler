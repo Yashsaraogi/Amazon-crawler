{
 "cells": [
  {
   "cell_type": "code",
   "execution_count": 12,
   "id": "c63b23f6",
   "metadata": {},
   "outputs": [
    {
     "name": "stdout",
     "output_type": "stream",
     "text": [
      "Enter your item: bags\n"
     ]
    },
    {
     "name": "stderr",
     "output_type": "stream",
     "text": [
      "2022-05-16 23:33:07 [scrapy.utils.log] INFO: Scrapy 2.6.1 started (bot: scrapybot)\n",
      "2022-05-16 23:33:07 [scrapy.utils.log] INFO: Versions: lxml 4.8.0.0, libxml2 2.9.12, cssselect 1.1.0, parsel 1.6.0, w3lib 1.22.0, Twisted 22.4.0, Python 3.10.2 (tags/v3.10.2:a58ebcc, Jan 17 2022, 14:12:15) [MSC v.1929 64 bit (AMD64)], pyOpenSSL 22.0.0 (OpenSSL 3.0.3 3 May 2022), cryptography 37.0.2, Platform Windows-10-10.0.19043-SP0\n",
      "2022-05-16 23:33:07 [scrapy.crawler] INFO: Overridden settings:\n",
      "{}\n"
     ]
    },
    {
     "ename": "ReactorAlreadyInstalledError",
     "evalue": "reactor already installed",
     "output_type": "error",
     "traceback": [
      "\u001b[1;31m---------------------------------------------------------------------------\u001b[0m",
      "\u001b[1;31mReactorAlreadyInstalledError\u001b[0m              Traceback (most recent call last)",
      "Input \u001b[1;32mIn [12]\u001b[0m, in \u001b[0;36m<module>\u001b[1;34m\u001b[0m\n\u001b[0;32m     77\u001b[0m             \u001b[38;5;66;03m# next_page = response.css('div.a-section > span.s-pagination-strip >a.s-pagination-next::attr(href)').get() \u001b[39;00m\n\u001b[0;32m     78\u001b[0m             \u001b[38;5;66;03m# w2 = w2-1          \u001b[39;00m\n\u001b[0;32m     79\u001b[0m             \u001b[38;5;66;03m# if w2 > 0 :\u001b[39;00m\n\u001b[0;32m     80\u001b[0m             \u001b[38;5;66;03m#     if next_page is not None:\u001b[39;00m\n\u001b[0;32m     81\u001b[0m             \u001b[38;5;66;03m#         next_page = response.urljoin(next_page)\u001b[39;00m\n\u001b[0;32m     82\u001b[0m             \u001b[38;5;66;03m#         yield scrapy.Request(next_page, callback=self.parse)\u001b[39;00m\n\u001b[0;32m     85\u001b[0m process \u001b[38;5;241m=\u001b[39m CrawlerProcess()\n\u001b[1;32m---> 86\u001b[0m \u001b[43mprocess\u001b[49m\u001b[38;5;241;43m.\u001b[39;49m\u001b[43mcrawl\u001b[49m\u001b[43m(\u001b[49m\u001b[43mQuotesSpider\u001b[49m\u001b[43m)\u001b[49m\n\u001b[0;32m     87\u001b[0m process\u001b[38;5;241m.\u001b[39mstart()\n",
      "File \u001b[1;32m~\\AppData\\Local\\Programs\\Python\\Python310\\lib\\site-packages\\scrapy\\crawler.py:205\u001b[0m, in \u001b[0;36mCrawlerRunner.crawl\u001b[1;34m(self, crawler_or_spidercls, *args, **kwargs)\u001b[0m\n\u001b[0;32m    201\u001b[0m \u001b[38;5;28;01mif\u001b[39;00m \u001b[38;5;28misinstance\u001b[39m(crawler_or_spidercls, Spider):\n\u001b[0;32m    202\u001b[0m     \u001b[38;5;28;01mraise\u001b[39;00m \u001b[38;5;167;01mValueError\u001b[39;00m(\n\u001b[0;32m    203\u001b[0m         \u001b[38;5;124m'\u001b[39m\u001b[38;5;124mThe crawler_or_spidercls argument cannot be a spider object, \u001b[39m\u001b[38;5;124m'\u001b[39m\n\u001b[0;32m    204\u001b[0m         \u001b[38;5;124m'\u001b[39m\u001b[38;5;124mit must be a spider class (or a Crawler object)\u001b[39m\u001b[38;5;124m'\u001b[39m)\n\u001b[1;32m--> 205\u001b[0m crawler \u001b[38;5;241m=\u001b[39m \u001b[38;5;28;43mself\u001b[39;49m\u001b[38;5;241;43m.\u001b[39;49m\u001b[43mcreate_crawler\u001b[49m\u001b[43m(\u001b[49m\u001b[43mcrawler_or_spidercls\u001b[49m\u001b[43m)\u001b[49m\n\u001b[0;32m    206\u001b[0m \u001b[38;5;28;01mreturn\u001b[39;00m \u001b[38;5;28mself\u001b[39m\u001b[38;5;241m.\u001b[39m_crawl(crawler, \u001b[38;5;241m*\u001b[39margs, \u001b[38;5;241m*\u001b[39m\u001b[38;5;241m*\u001b[39mkwargs)\n",
      "File \u001b[1;32m~\\AppData\\Local\\Programs\\Python\\Python310\\lib\\site-packages\\scrapy\\crawler.py:238\u001b[0m, in \u001b[0;36mCrawlerRunner.create_crawler\u001b[1;34m(self, crawler_or_spidercls)\u001b[0m\n\u001b[0;32m    236\u001b[0m \u001b[38;5;28;01mif\u001b[39;00m \u001b[38;5;28misinstance\u001b[39m(crawler_or_spidercls, Crawler):\n\u001b[0;32m    237\u001b[0m     \u001b[38;5;28;01mreturn\u001b[39;00m crawler_or_spidercls\n\u001b[1;32m--> 238\u001b[0m \u001b[38;5;28;01mreturn\u001b[39;00m \u001b[38;5;28;43mself\u001b[39;49m\u001b[38;5;241;43m.\u001b[39;49m\u001b[43m_create_crawler\u001b[49m\u001b[43m(\u001b[49m\u001b[43mcrawler_or_spidercls\u001b[49m\u001b[43m)\u001b[49m\n",
      "File \u001b[1;32m~\\AppData\\Local\\Programs\\Python\\Python310\\lib\\site-packages\\scrapy\\crawler.py:313\u001b[0m, in \u001b[0;36mCrawlerProcess._create_crawler\u001b[1;34m(self, spidercls)\u001b[0m\n\u001b[0;32m    311\u001b[0m \u001b[38;5;28;01mif\u001b[39;00m \u001b[38;5;28misinstance\u001b[39m(spidercls, \u001b[38;5;28mstr\u001b[39m):\n\u001b[0;32m    312\u001b[0m     spidercls \u001b[38;5;241m=\u001b[39m \u001b[38;5;28mself\u001b[39m\u001b[38;5;241m.\u001b[39mspider_loader\u001b[38;5;241m.\u001b[39mload(spidercls)\n\u001b[1;32m--> 313\u001b[0m \u001b[38;5;28;01mreturn\u001b[39;00m \u001b[43mCrawler\u001b[49m\u001b[43m(\u001b[49m\u001b[43mspidercls\u001b[49m\u001b[43m,\u001b[49m\u001b[43m \u001b[49m\u001b[38;5;28;43mself\u001b[39;49m\u001b[38;5;241;43m.\u001b[39;49m\u001b[43msettings\u001b[49m\u001b[43m,\u001b[49m\u001b[43m \u001b[49m\u001b[43minit_reactor\u001b[49m\u001b[38;5;241;43m=\u001b[39;49m\u001b[38;5;28;43;01mTrue\u001b[39;49;00m\u001b[43m)\u001b[49m\n",
      "File \u001b[1;32m~\\AppData\\Local\\Programs\\Python\\Python310\\lib\\site-packages\\scrapy\\crawler.py:82\u001b[0m, in \u001b[0;36mCrawler.__init__\u001b[1;34m(self, spidercls, settings, init_reactor)\u001b[0m\n\u001b[0;32m     80\u001b[0m     \u001b[38;5;28;01melse\u001b[39;00m:\n\u001b[0;32m     81\u001b[0m         \u001b[38;5;28;01mfrom\u001b[39;00m \u001b[38;5;21;01mtwisted\u001b[39;00m\u001b[38;5;21;01m.\u001b[39;00m\u001b[38;5;21;01minternet\u001b[39;00m \u001b[38;5;28;01mimport\u001b[39;00m default\n\u001b[1;32m---> 82\u001b[0m         \u001b[43mdefault\u001b[49m\u001b[38;5;241;43m.\u001b[39;49m\u001b[43minstall\u001b[49m\u001b[43m(\u001b[49m\u001b[43m)\u001b[49m\n\u001b[0;32m     83\u001b[0m     log_reactor_info()\n\u001b[0;32m     84\u001b[0m \u001b[38;5;28;01mif\u001b[39;00m reactor_class:\n",
      "File \u001b[1;32m~\\AppData\\Local\\Programs\\Python\\Python310\\lib\\site-packages\\twisted\\internet\\selectreactor.py:194\u001b[0m, in \u001b[0;36minstall\u001b[1;34m()\u001b[0m\n\u001b[0;32m    191\u001b[0m reactor \u001b[38;5;241m=\u001b[39m SelectReactor()\n\u001b[0;32m    192\u001b[0m \u001b[38;5;28;01mfrom\u001b[39;00m \u001b[38;5;21;01mtwisted\u001b[39;00m\u001b[38;5;21;01m.\u001b[39;00m\u001b[38;5;21;01minternet\u001b[39;00m\u001b[38;5;21;01m.\u001b[39;00m\u001b[38;5;21;01mmain\u001b[39;00m \u001b[38;5;28;01mimport\u001b[39;00m installReactor\n\u001b[1;32m--> 194\u001b[0m \u001b[43minstallReactor\u001b[49m\u001b[43m(\u001b[49m\u001b[43mreactor\u001b[49m\u001b[43m)\u001b[49m\n",
      "File \u001b[1;32m~\\AppData\\Local\\Programs\\Python\\Python310\\lib\\site-packages\\twisted\\internet\\main.py:32\u001b[0m, in \u001b[0;36minstallReactor\u001b[1;34m(reactor)\u001b[0m\n\u001b[0;32m     29\u001b[0m \u001b[38;5;28;01mimport\u001b[39;00m \u001b[38;5;21;01mtwisted\u001b[39;00m\u001b[38;5;21;01m.\u001b[39;00m\u001b[38;5;21;01minternet\u001b[39;00m\n\u001b[0;32m     31\u001b[0m \u001b[38;5;28;01mif\u001b[39;00m \u001b[38;5;124m\"\u001b[39m\u001b[38;5;124mtwisted.internet.reactor\u001b[39m\u001b[38;5;124m\"\u001b[39m \u001b[38;5;129;01min\u001b[39;00m sys\u001b[38;5;241m.\u001b[39mmodules:\n\u001b[1;32m---> 32\u001b[0m     \u001b[38;5;28;01mraise\u001b[39;00m error\u001b[38;5;241m.\u001b[39mReactorAlreadyInstalledError(\u001b[38;5;124m\"\u001b[39m\u001b[38;5;124mreactor already installed\u001b[39m\u001b[38;5;124m\"\u001b[39m)\n\u001b[0;32m     33\u001b[0m twisted\u001b[38;5;241m.\u001b[39minternet\u001b[38;5;241m.\u001b[39mreactor \u001b[38;5;241m=\u001b[39m reactor\n\u001b[0;32m     34\u001b[0m sys\u001b[38;5;241m.\u001b[39mmodules[\u001b[38;5;124m\"\u001b[39m\u001b[38;5;124mtwisted.internet.reactor\u001b[39m\u001b[38;5;124m\"\u001b[39m] \u001b[38;5;241m=\u001b[39m reactor\n",
      "\u001b[1;31mReactorAlreadyInstalledError\u001b[0m: reactor already installed"
     ]
    }
   ],
   "source": [
    "from turtle import title\n",
    "import scrapy\n",
    "import json\n",
    "import time\n",
    "import json\n",
    "from scrapy.crawler import CrawlerProcess\n",
    "#import cfscrape\n",
    "#from fake_useragent import UserAgent\n",
    "from crochet import setup, wait_for\n",
    "import re\n",
    "from scrapy import signals\n",
    "from pydispatch import dispatcher\n",
    "import pandas as pd\n",
    "\n",
    "df = pd.read_csv('Book1.csv')\n",
    "\n",
    "\n",
    "w1 = input(\"Enter your item: \")\n",
    "# w2 = input(\"enter the no of page : \")\n",
    "class QuotesSpider(scrapy.Spider):\n",
    "    name = \"amazon\"\n",
    "    # *** Change this url for your prefered search from hemnet.se ***\n",
    "    start_urls = [f'https://www.amazon.in/s?k={w1}']\n",
    "  \n",
    "    globalIndex = 0\n",
    "    results = {}\n",
    "    \n",
    "    def parse(self, response):\n",
    "           \n",
    "            \n",
    "            for ad in response.css(\"div.a-spacing-base \"):\n",
    "             \n",
    "                title = ad.css(\"div.s-title-instructions-style > div.a-row > h5.s-line-clamp-1 > span.a-size-base-plus::text\").get()\n",
    "                \n",
    "                prices = ad.css(\"div.s-price-instructions-style > div.a-row > a.s-underline-link-text > span.a-price > span.a-offscreen::text\").get()\n",
    "                if prices != None:\n",
    "                    prices = prices.replace('\\u20b9', '')\n",
    "\n",
    "                original_price = ad.css(\"div.s-price-instructions-style > div.a-row > a.s-underline-link-text > span.a-text-price > span.a-offscreen::text\").get()\n",
    "                if original_price != None:\n",
    "                    original_price = original_price.replace('\\u20b9', '')\n",
    "\n",
    "                description = ad.css(\"div.s-title-instructions-style > h2.a-size-mini > a.a-link-normal > span.a-size-base-plus::text\").get()\n",
    "\n",
    "                review = ad.css(\"div.a-spacing-top-micro > div.a-row  > span::attr(aria-label)\").get()\n",
    "\n",
    "                No_of_review = ad.css(\"div.a-spacing-top-micro > div.a-row  > span::attr(aria-label)\")[1].get()\n",
    "\n",
    "                id = ad.css(\"div.s-title-instructions-style > h2.a-size-mini > a.a-link-normal::attr(href)\").get()\n",
    "                start = id.find('dp/') +3\n",
    "                end = id.find('/ref')\n",
    "                id = id[start:end]\n",
    "\n",
    "                prime_tag = ad.css(\"div.a-spacing-top-micro > div.a-row  > div.s-align-children-center > span.s-image-logo-view > span.s-prime > i::attr(aria-label)\").get()\n",
    "                Deal_of_day = ad.css(\"div.a-spacing-top-micro > div.a-row > a.a-link-normal > span::attr(id)\").get()\n",
    "                best_seller = ad.css(\"div.a-spacing-none > div.a-link-normal  >  span.rush-component > div.a-row > span::attr(id)\").get()\n",
    "\n",
    "                if len(id) == 10:\n",
    "                    sponsered = \"False\"\n",
    "                else :\n",
    "                    sponsered = \"True\"\n",
    "                \n",
    "                yield {\n",
    "                'Category' : w1 ,\n",
    "                'Deal_of_day' : Deal_of_day,\n",
    "                'best_seller' : best_seller,   \n",
    "                'title': title,\n",
    "                'description': description,\n",
    "                'price': prices,\n",
    "                'original-price' : original_price,\n",
    "                'review' : review ,\n",
    "                'No_of_review' : No_of_review,  \n",
    "                'id' : id,\n",
    "                'sponsered' : sponsered,\n",
    "                'prime_tag' : prime_tag \n",
    "                }\n",
    "            # next_page = response.css('div.a-section > span.s-pagination-strip >a.s-pagination-next::attr(href)').get() \n",
    "            # w2 = w2-1          \n",
    "            # if w2 > 0 :\n",
    "            #     if next_page is not None:\n",
    "            #         next_page = response.urljoin(next_page)\n",
    "            #         yield scrapy.Request(next_page, callback=self.parse)\n",
    "               \n",
    "           \n",
    "process = CrawlerProcess()\n",
    "process.crawl(QuotesSpider)\n",
    "process.start()       \n",
    "            \n",
    "         \n",
    "            \n",
    "\n",
    "    "
   ]
  },
  {
   "cell_type": "code",
   "execution_count": 8,
   "id": "439aa2a8",
   "metadata": {},
   "outputs": [],
   "source": [
    "@wait_for(10)\n",
    "def run_spider():\n",
    "    \"\"\"run spider with MJKQuotesToCsv\"\"\"\n",
    "    crawler = QuotesSpider()\n",
    "    d = crawler.crawl(QuotesToCsv)\n",
    "    return d"
   ]
  },
  {
   "cell_type": "code",
   "execution_count": null,
   "id": "9512c092",
   "metadata": {},
   "outputs": [],
   "source": []
  },
  {
   "cell_type": "code",
   "execution_count": null,
   "id": "0bb258c6",
   "metadata": {},
   "outputs": [],
   "source": []
  }
 ],
 "metadata": {
  "kernelspec": {
   "display_name": "Python 3 (ipykernel)",
   "language": "python",
   "name": "python3"
  },
  "language_info": {
   "codemirror_mode": {
    "name": "ipython",
    "version": 3
   },
   "file_extension": ".py",
   "mimetype": "text/x-python",
   "name": "python",
   "nbconvert_exporter": "python",
   "pygments_lexer": "ipython3",
   "version": "3.10.2"
  }
 },
 "nbformat": 4,
 "nbformat_minor": 5
}
